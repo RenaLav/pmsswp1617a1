{
 "cells": [
  {
   "cell_type": "markdown",
   "metadata": {},
   "source": [
    "# Notebook για την παραγωγή των δεδομένων N-Triples (1η εργασία).\n",
    "\n",
    "Χρησιμοποιήστε τον κώδικα από το [notebook του 5ου εργαστηρίου](https://github.com/mixstef/courses/blob/master/pms-swp/schedule4.ipynb) με τις κατάλληλες αλλαγές για να φτιάξετε το αρχείο `schedule-data.nt` της **1ης εργασίας**.\n",
    "\n",
    "Προσθέστε τον κώδικά σας στα επόμενα κελιά."
   ]
  },
  {
   "cell_type": "code",
   "execution_count": null,
   "metadata": {
    "collapsed": true
   },
   "outputs": [],
   "source": []
  }
 ],
 "metadata": {
  "kernelspec": {
   "display_name": "Python 3",
   "language": "python",
   "name": "python3"
  },
  "language_info": {
   "codemirror_mode": {
    "name": "ipython",
    "version": 3
   },
   "file_extension": ".py",
   "mimetype": "text/x-python",
   "name": "python",
   "nbconvert_exporter": "python",
   "pygments_lexer": "ipython3",
   "version": "3.4.4"
  }
 },
 "nbformat": 4,
 "nbformat_minor": 0
}

{
 "cells": [
  {
   "cell_type": "code",
   "execution_count": 4,
   "metadata": {
    "collapsed": false
   },
   "outputs": [
    {
     "name": "stdout",
     "output_type": "stream",
     "text": [
      "[['_:0', 'http://dilab77.ionio.gr/swp/lavranou/vocab#EXAMINO', 'http://dilab77.ionio.gr/swp/lavranou/resource/b'], ['_:0', 'http://dilab77.ionio.gr/swp/lavranou/vocab#ORA%20ENARXIS', '#:3'], ['_:0', 'http://dilab77.ionio.gr/swp/lavranou/vocab#ORA%20LIXIS', '#:6'], ['_:0', 'http://dilab77.ionio.gr/swp/lavranou/vocab#MERA', '#:Triti'], ['_:1', 'http://dilab77.ionio.gr/swp/lavranou/vocab#KATHIGITIS', 'http://dilab77.ionio.gr/swp/lavranou/resource/Mylonas'], ['_:1', 'http://dilab77.ionio.gr/swp/lavranou/vocab#AITHOUSA', 'http://dilab77.ionio.gr/swp/lavranou/resource/pms'], ['_:1', 'http://dilab77.ionio.gr/swp/lavranou/vocab#EXAMINO', 'http://dilab77.ionio.gr/swp/lavranou/resource/b'], ['_:1', 'http://dilab77.ionio.gr/swp/lavranou/vocab#ORA%20ENARXIS', '#:3'], ['_:1', 'http://dilab77.ionio.gr/swp/lavranou/vocab#ORA%20LIXIS', '#:6'], ['_:1', 'http://dilab77.ionio.gr/swp/lavranou/vocab#MERA', '#:Pempti'], ['_:2', 'http://dilab77.ionio.gr/swp/lavranou/vocab#KATHIGITIS', 'http://dilab77.ionio.gr/swp/lavranou/resource/Pateli'], ['_:2', 'http://dilab77.ionio.gr/swp/lavranou/vocab#MATHIMA', 'http://dilab77.ionio.gr/swp/lavranou/resource/epixirimatikotita'], ['_:2', 'http://dilab77.ionio.gr/swp/lavranou/vocab#AITHOUSA', 'http://dilab77.ionio.gr/swp/lavranou/resource/pms'], ['_:2', 'http://dilab77.ionio.gr/swp/lavranou/vocab#EXAMINO', 'http://dilab77.ionio.gr/swp/lavranou/resource/b'], ['_:2', 'http://dilab77.ionio.gr/swp/lavranou/vocab#ORA%20ENARXIS', '#:3'], ['_:2', 'http://dilab77.ionio.gr/swp/lavranou/vocab#ORA%20LIXIS', '#:6'], ['_:2', 'http://dilab77.ionio.gr/swp/lavranou/vocab#MERA', '#:Tetarti'], ['_:3', 'http://dilab77.ionio.gr/swp/lavranou/vocab#KATHIGITIS', 'http://dilab77.ionio.gr/swp/lavranou/resource/Avlonitis'], ['_:3', 'http://dilab77.ionio.gr/swp/lavranou/vocab#MATHIMA', 'http://dilab77.ionio.gr/swp/lavranou/resource/prosomoiosi'], ['_:3', 'http://dilab77.ionio.gr/swp/lavranou/vocab#AITHOUSA', 'http://dilab77.ionio.gr/swp/lavranou/resource/pms'], ['_:3', 'http://dilab77.ionio.gr/swp/lavranou/vocab#EXAMINO', 'http://dilab77.ionio.gr/swp/lavranou/resource/b'], ['_:3', 'http://dilab77.ionio.gr/swp/lavranou/vocab#ORA%20ENARXIS', '#:6'], ['_:3', 'http://dilab77.ionio.gr/swp/lavranou/vocab#ORA%20LIXIS', '#:9'], ['_:3', 'http://dilab77.ionio.gr/swp/lavranou/vocab#MERA', '#:Triti'], ['_:4', 'http://dilab77.ionio.gr/swp/lavranou/vocab#KATHIGITIS', 'http://dilab77.ionio.gr/swp/lavranou/resource/Vlamos'], ['_:4', 'http://dilab77.ionio.gr/swp/lavranou/vocab#MATHIMA', 'http://dilab77.ionio.gr/swp/lavranou/resource/pliroforiki%20ekpaideysi'], ['_:4', 'http://dilab77.ionio.gr/swp/lavranou/vocab#AITHOUSA', 'http://dilab77.ionio.gr/swp/lavranou/resource/pms'], ['_:4', 'http://dilab77.ionio.gr/swp/lavranou/vocab#EXAMINO', 'http://dilab77.ionio.gr/swp/lavranou/resource/b'], ['_:4', 'http://dilab77.ionio.gr/swp/lavranou/vocab#ORA%20ENARXIS', '#:6'], ['_:4', 'http://dilab77.ionio.gr/swp/lavranou/vocab#ORA%20LIXIS', '#:9'], ['_:4', 'http://dilab77.ionio.gr/swp/lavranou/vocab#MERA', '#:Pempti']]\n"
     ]
    }
   ],
   "source": [
    "import csv\n",
    "\n",
    "triple=[]\n",
    "with open ('arxeio3.csv', 'r',newline='')as ifp:\n",
    "    reader=csv.reader(ifp)\n",
    "    headers=next(reader)\n",
    "    for row in reader:\n",
    "        triple.append(row)\n",
    "        \n",
    "print(triple)\n",
    "\n",
    "\n"
   ]
  },
  {
   "cell_type": "code",
   "execution_count": 5,
   "metadata": {
    "collapsed": false
   },
   "outputs": [
    {
     "name": "stdout",
     "output_type": "stream",
     "text": [
      "[['_:0', '<http://dilab77.ionio.gr/swp/lavranou/vocab#EXAMINO>', '\"b\"'], ['_:0', '<http://dilab77.ionio.gr/swp/lavranou/vocab#ORA%20ENARXIS>', '\"03:00:00\"^^<http://www.w3.org/2001/XMLSchema#time>'], ['_:0', '<http://dilab77.ionio.gr/swp/lavranou/vocab#ORA%20LIXIS>', '\"06:00:00\"^^<http://www.w3.org/2001/XMLSchema#time>'], ['_:0', '<http://dilab77.ionio.gr/swp/lavranou/vocab#MERA>', '\"Triti\"'], ['_:1', '<http://dilab77.ionio.gr/swp/lavranou/vocab#KATHIGITIS>', '<http://dilab77.ionio.gr/swp/lavranou/resource/Mylonas>'], ['_:1', '<http://dilab77.ionio.gr/swp/lavranou/vocab#AITHOUSA>', '<http://dilab77.ionio.gr/swp/lavranou/resource/pms>'], ['_:1', '<http://dilab77.ionio.gr/swp/lavranou/vocab#EXAMINO>', '\"b\"'], ['_:1', '<http://dilab77.ionio.gr/swp/lavranou/vocab#ORA%20ENARXIS>', '\"03:00:00\"^^<http://www.w3.org/2001/XMLSchema#time>'], ['_:1', '<http://dilab77.ionio.gr/swp/lavranou/vocab#ORA%20LIXIS>', '\"06:00:00\"^^<http://www.w3.org/2001/XMLSchema#time>'], ['_:1', '<http://dilab77.ionio.gr/swp/lavranou/vocab#MERA>', '\"Pempti\"'], ['_:2', '<http://dilab77.ionio.gr/swp/lavranou/vocab#KATHIGITIS>', '<http://dilab77.ionio.gr/swp/lavranou/resource/Pateli>'], ['_:2', '<http://dilab77.ionio.gr/swp/lavranou/vocab#MATHIMA>', '<http://dilab77.ionio.gr/swp/lavranou/resource/epixirimatikotita>'], ['_:2', '<http://dilab77.ionio.gr/swp/lavranou/vocab#AITHOUSA>', '<http://dilab77.ionio.gr/swp/lavranou/resource/pms>'], ['_:2', '<http://dilab77.ionio.gr/swp/lavranou/vocab#EXAMINO>', '\"b\"'], ['_:2', '<http://dilab77.ionio.gr/swp/lavranou/vocab#ORA%20ENARXIS>', '\"03:00:00\"^^<http://www.w3.org/2001/XMLSchema#time>'], ['_:2', '<http://dilab77.ionio.gr/swp/lavranou/vocab#ORA%20LIXIS>', '\"06:00:00\"^^<http://www.w3.org/2001/XMLSchema#time>'], ['_:2', '<http://dilab77.ionio.gr/swp/lavranou/vocab#MERA>', '\"Tetarti\"'], ['_:3', '<http://dilab77.ionio.gr/swp/lavranou/vocab#KATHIGITIS>', '<http://dilab77.ionio.gr/swp/lavranou/resource/Avlonitis>'], ['_:3', '<http://dilab77.ionio.gr/swp/lavranou/vocab#MATHIMA>', '<http://dilab77.ionio.gr/swp/lavranou/resource/prosomoiosi>'], ['_:3', '<http://dilab77.ionio.gr/swp/lavranou/vocab#AITHOUSA>', '<http://dilab77.ionio.gr/swp/lavranou/resource/pms>'], ['_:3', '<http://dilab77.ionio.gr/swp/lavranou/vocab#EXAMINO>', '\"b\"'], ['_:3', '<http://dilab77.ionio.gr/swp/lavranou/vocab#ORA%20ENARXIS>', '\"06:00:00\"^^<http://www.w3.org/2001/XMLSchema#time>'], ['_:3', '<http://dilab77.ionio.gr/swp/lavranou/vocab#ORA%20LIXIS>', '\"09:00:00\"^^<http://www.w3.org/2001/XMLSchema#time>'], ['_:3', '<http://dilab77.ionio.gr/swp/lavranou/vocab#MERA>', '\"Triti\"'], ['_:4', '<http://dilab77.ionio.gr/swp/lavranou/vocab#KATHIGITIS>', '<http://dilab77.ionio.gr/swp/lavranou/resource/Vlamos>'], ['_:4', '<http://dilab77.ionio.gr/swp/lavranou/vocab#MATHIMA>', '<http://dilab77.ionio.gr/swp/lavranou/resource/pliroforiki%20ekpaideysi>'], ['_:4', '<http://dilab77.ionio.gr/swp/lavranou/vocab#AITHOUSA>', '<http://dilab77.ionio.gr/swp/lavranou/resource/pms>'], ['_:4', '<http://dilab77.ionio.gr/swp/lavranou/vocab#EXAMINO>', '\"b\"'], ['_:4', '<http://dilab77.ionio.gr/swp/lavranou/vocab#ORA%20ENARXIS>', '\"06:00:00\"^^<http://www.w3.org/2001/XMLSchema#time>'], ['_:4', '<http://dilab77.ionio.gr/swp/lavranou/vocab#ORA%20LIXIS>', '\"09:00:00\"^^<http://www.w3.org/2001/XMLSchema#time>'], ['_:4', '<http://dilab77.ionio.gr/swp/lavranou/vocab#MERA>', '\"Pempti\"']]\n"
     ]
    }
   ],
   "source": [
    "newtriple=[]\n",
    "visited = set()\n",
    "for s,p,o in triple:\n",
    "    \n",
    "    \n",
    "    p='<'+p+'>'\n",
    "    if o.startswith('http:'):\n",
    "        o='<'+o+'>'\n",
    "    \n",
    "   \n",
    "    if p=='<http://dilab77.ionio.gr/swp/lavranou/vocab#MERA>':\n",
    "        o='\"'+o[2:]+'\"'\n",
    "    if p=='<http://dilab77.ionio.gr/swp/lavranou/vocab#EXAMINO>':\n",
    "        o='\"'+o[-2]+'\"'\n",
    "   \n",
    "        \n",
    "    if p in ('<http://dilab77.ionio.gr/swp/lavranou/vocab#ORA%20LIXIS>', '<http://dilab77.ionio.gr/swp/lavranou/vocab#ORA%20ENARXIS>'):\n",
    "        o= '\"0' + o[2:]+':00:00' +'\"^^<http://www.w3.org/2001/XMLSchema#time>'\n",
    "    \n",
    "    newtriple.append([s,p,o])\n",
    "     \n",
    "    \n",
    "   \n",
    "    \n",
    "print(newtriple)\n"
   ]
  },
  {
   "cell_type": "code",
   "execution_count": 6,
   "metadata": {
    "collapsed": false
   },
   "outputs": [
    {
     "name": "stdout",
     "output_type": "stream",
     "text": [
      "_:0 <http://www.w3.org/1999/02/22-rdf-syntax-ns#type> <http://dilab77.ionio.gr/swp/lavranou/vocab#Lecture>\n",
      "_:1 <http://www.w3.org/1999/02/22-rdf-syntax-ns#type> <http://dilab77.ionio.gr/swp/lavranou/vocab#Lecture>\n",
      "<http://dilab77.ionio.gr/swp/lavranou/resource/Mylonas> <http://www.w3.org/1999/02/22-rdf-syntax-ns#type> <http://dilab77.ionio.gr/swp/lavranou/vocab#Teacher> .\n",
      "<http://dilab77.ionio.gr/swp/lavranou/resource/pms> <http://www.w3.org/1999/02/22-rdf-syntax-ns#type> <http://dilab77.ionio.gr/swp/lavranou/vocab#Room> .\n",
      "_:2 <http://www.w3.org/1999/02/22-rdf-syntax-ns#type> <http://dilab77.ionio.gr/swp/lavranou/vocab#Lecture>\n",
      "<http://dilab77.ionio.gr/swp/lavranou/resource/Pateli> <http://www.w3.org/1999/02/22-rdf-syntax-ns#type> <http://dilab77.ionio.gr/swp/lavranou/vocab#Teacher> .\n",
      "<http://dilab77.ionio.gr/swp/lavranou/resource/epixirimatikotita> <http://www.w3.org/1999/02/22-rdf-syntax-ns#type> <http://dilab77.ionio.gr/swp/lavranou/vocab#Course> .\n",
      "_:3 <http://www.w3.org/1999/02/22-rdf-syntax-ns#type> <http://dilab77.ionio.gr/swp/lavranou/vocab#Lecture>\n",
      "<http://dilab77.ionio.gr/swp/lavranou/resource/Avlonitis> <http://www.w3.org/1999/02/22-rdf-syntax-ns#type> <http://dilab77.ionio.gr/swp/lavranou/vocab#Teacher> .\n",
      "<http://dilab77.ionio.gr/swp/lavranou/resource/prosomoiosi> <http://www.w3.org/1999/02/22-rdf-syntax-ns#type> <http://dilab77.ionio.gr/swp/lavranou/vocab#Course> .\n",
      "_:4 <http://www.w3.org/1999/02/22-rdf-syntax-ns#type> <http://dilab77.ionio.gr/swp/lavranou/vocab#Lecture>\n",
      "<http://dilab77.ionio.gr/swp/lavranou/resource/Vlamos> <http://www.w3.org/1999/02/22-rdf-syntax-ns#type> <http://dilab77.ionio.gr/swp/lavranou/vocab#Teacher> .\n",
      "<http://dilab77.ionio.gr/swp/lavranou/resource/pliroforiki%20ekpaideysi> <http://www.w3.org/1999/02/22-rdf-syntax-ns#type> <http://dilab77.ionio.gr/swp/lavranou/vocab#Course> .\n"
     ]
    }
   ],
   "source": [
    "#<your-uri> rdf:type <type-of-this-uri>\n",
    "    \n",
    "visited = set()\n",
    "with open ('ergasia.nt','w')as ofp:\n",
    "    \n",
    "\n",
    "    for s,p,o in newtriple:\n",
    "    \n",
    "        k='<http://www.w3.org/1999/02/22-rdf-syntax-ns#type>'\n",
    "        if s not in visited and s.startswith('_:'):\n",
    "            visited.add(s)\n",
    "            print(s,k,'<http://dilab77.ionio.gr/swp/lavranou/vocab#Lecture>')\n",
    "            \n",
    "            ofp.write('{} {} {} . \\n'.format(s,k,'<http://dilab77.ionio.gr/swp/lavranou/vocab#Lecture>'))\n",
    "   \n",
    "         \n",
    "        #k='<http://www.w3.org/1999/02/22-rdf-syntax-ns#type>'\n",
    "    \n",
    "        \n",
    "        if p=='<http://dilab77.ionio.gr/swp/lavranou/vocab#KATHIGITIS>':\n",
    "        \n",
    "            if o not in visited:\n",
    "                visited.add(o)\n",
    "            \n",
    "                print('{} {} {} .'.format(o,k,'<http://dilab77.ionio.gr/swp/lavranou/vocab#Teacher>'))\n",
    "                ofp.write('{} {} {} . \\n'.format(o,k,'<http://dilab77.ionio.gr/swp/lavranou/vocab#Teacher>'))\n",
    "            \n",
    "        if p=='<http://dilab77.ionio.gr/swp/lavranou/vocab#AITHOUSA>':\n",
    "       \n",
    "            if o not in visited:\n",
    "                visited.add(o)\n",
    "            \n",
    "                print('{} {} {} .'.format(o,k,'<http://dilab77.ionio.gr/swp/lavranou/vocab#Room>'))\n",
    "                ofp.write('{} {} {} . \\n'.format(o,k,'<http://dilab77.ionio.gr/swp/lavranou/vocab#Room>'))\n",
    "        if p=='<http://dilab77.ionio.gr/swp/lavranou/vocab#MATHIMA>':\n",
    "        \n",
    "            if o not in visited:\n",
    "                visited.add(o)\n",
    "            \n",
    "                print('{} {} {} .'.format(o,k,'<http://dilab77.ionio.gr/swp/lavranou/vocab#Course>'))\n",
    "                ofp.write('{} {} {} . \\n'.format(o,k,'<http://dilab77.ionio.gr/swp/lavranou/vocab#Course>'))\n",
    "   \n",
    "        \n",
    "    "
   ]
  },
  {
   "cell_type": "code",
   "execution_count": null,
   "metadata": {
    "collapsed": false
   },
   "outputs": [],
   "source": []
  },
  {
   "cell_type": "code",
   "execution_count": null,
   "metadata": {
    "collapsed": false
   },
   "outputs": [],
   "source": []
  },
  {
   "cell_type": "code",
   "execution_count": null,
   "metadata": {
    "collapsed": true
   },
   "outputs": [],
   "source": []
  }
 ],
 "metadata": {
  "kernelspec": {
   "display_name": "Python 3",
   "language": "python",
   "name": "python3"
  },
  "language_info": {
   "codemirror_mode": {
    "name": "ipython",
    "version": 3
   },
   "file_extension": ".py",
   "mimetype": "text/x-python",
   "name": "python",
   "nbconvert_exporter": "python",
   "pygments_lexer": "ipython3",
   "version": "3.4.4"
  }
 },
 "nbformat": 4,
 "nbformat_minor": 0
}
